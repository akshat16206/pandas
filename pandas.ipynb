{
 "cells": [
  {
   "cell_type": "markdown",
   "id": "fbe2a595",
   "metadata": {},
   "source": [
    "panda is python module that makes data science easy and  effective."
   ]
  },
  {
   "cell_type": "markdown",
   "id": "6e7e9638",
   "metadata": {},
   "source": [
    "1) Intro\n",
    " * what is pandas? \n",
    " * what using excel/plain python not good. \n",
    " * Show how pandas increase productivity\n",
    " \n",
    "2) Dataframe basics\n",
    " * What is dataframe?\n",
    " * Dealing with rows and columns\n",
    " * Operations: mean, max, std, describe\n",
    " * Conditional selection\n",
    " * set_index\n",
    " \n",
    "3) Different ways of creating dataframe\n",
    " * dictionary, tuples list, list of dictionaries, csv, excel\n",
    " \n",
    "-) reading/writing to excel/csv: http://pbpython.com/excel-pandas-comp.html\n",
    "\n",
    "-) Handling Missing Data \n",
    " * dropna\n",
    " * fillna\n",
    " * isnull\n",
    " * df.reindex\n",
    " \n",
    "-) Excel Like Operations\n",
    " * sort\n",
    " * filter\n",
    " * remove/rename columns\n",
    " * .duplicated \n",
    " * \n",
    "\n",
    "-) Selection of data \n",
    " * df['A'] or df.A\n",
    " * df[0:3]\n",
    " * df['20130102':'20130104']\n",
    " * df.loc['Rain'] or df.at['Rain']\n",
    " * df.iloc[3]\n",
    " * df.iat[1,1]\n",
    " * df[df.A > 0]\n",
    " \n",
    "\n",
    " \n",
    "-) Merge/Concat/Join\n",
    "-) Grouping\n",
    "-) Reshaping/Stack/Unstack\n",
    "-) Pivot Table\n",
    "-) Time Series and Categoricals\n",
    "-) Plotting (Bokeh?) "
   ]
  }
 ],
 "metadata": {
  "language_info": {
   "name": "python"
  }
 },
 "nbformat": 4,
 "nbformat_minor": 5
}
